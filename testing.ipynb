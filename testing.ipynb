{
 "cells": [
  {
   "cell_type": "code",
   "execution_count": 8,
   "metadata": {},
   "outputs": [],
   "source": [
    "from traceroute import (\n",
    "    load_samples,\n",
    "    RouteResponse,\n",
    "    RouterResponse,\n",
    "    NoResponse,\n",
    ")\n",
    "from stats import number_of_negative_ttls, router_response_count"
   ]
  },
  {
   "cell_type": "code",
   "execution_count": 7,
   "metadata": {},
   "outputs": [
    {
     "name": "stdout",
     "output_type": "stream",
     "text": [
      "[0.5714285714285714, 0.5384615384615384, 0.38461538461538464, 0.38461538461538464, 0.42857142857142855]\n"
     ]
    }
   ],
   "source": [
    "destinations = [\"melbourne\", \"osaka\", \"oxford\", \"stanford\"]\n"
   ]
  }
 ],
 "metadata": {
  "kernelspec": {
   "display_name": "TP2-HcjAmORt",
   "language": "python",
   "name": "python3"
  },
  "language_info": {
   "codemirror_mode": {
    "name": "ipython",
    "version": 3
   },
   "file_extension": ".py",
   "mimetype": "text/x-python",
   "name": "python",
   "nbconvert_exporter": "python",
   "pygments_lexer": "ipython3",
   "version": "3.10.11"
  },
  "orig_nbformat": 4
 },
 "nbformat": 4,
 "nbformat_minor": 2
}
